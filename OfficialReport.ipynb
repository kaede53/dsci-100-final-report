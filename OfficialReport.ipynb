{
 "cells": [
  {
   "cell_type": "code",
   "execution_count": 1,
   "id": "88e8e209-07f2-470c-bb73-435d924acc22",
   "metadata": {},
   "outputs": [
    {
     "name": "stdout",
     "output_type": "stream",
     "text": [
      "[1] \"hi\"\n"
     ]
    }
   ],
   "source": [
    "print(\"hey\n",
    "      \")"
   ]
  },
  {
   "cell_type": "code",
   "execution_count": null,
   "id": "a543cdac-3654-4cf0-a62a-594e29c27a9e",
   "metadata": {},
   "outputs": [],
   "source": [
    "library(repr)\n",
    "library(tidyverse)\n",
    "library(tidymodels)\n",
    "\n",
    "players_url <- \"https://raw.githubusercontent.com/rachelbmgr/toy_ds_project/refs/heads/main/players.csv\"\n",
    "players <- read_csv(players_url)\n",
    "head(players)\n",
    "tail(players)\n",
    "players_tidy <- players |>\n",
    "                filter(Age != 'NA') |>\n",
    "                select(Age, subscribe, played_hours)\n",
    "players_time <- players_tidy |>\n",
    "                mutate(played_mins = played_hours * 60)\n",
    "head(players_mins)\n"
   ]
  }
 ],
 "metadata": {
  "kernelspec": {
   "display_name": "R",
   "language": "R",
   "name": "ir"
  },
  "language_info": {
   "codemirror_mode": "r",
   "file_extension": ".r",
   "mimetype": "text/x-r-source",
   "name": "R",
   "pygments_lexer": "r",
   "version": "4.3.3"
  }
 },
 "nbformat": 4,
 "nbformat_minor": 5
}
