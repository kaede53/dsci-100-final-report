{
 "cells": [
  {
   "cell_type": "code",
   "execution_count": 2,
   "id": "e0253587-23a0-4c9a-8603-78cf72be182a",
   "metadata": {},
   "outputs": [
    {
     "name": "stdout",
     "output_type": "stream",
     "text": [
      "[1] \"gello\"\n"
     ]
    }
   ],
   "source": [
    "print(\"gello\")\n"
   ]
  },
  {
   "cell_type": "code",
   "execution_count": null,
   "id": "389c66ab-fdba-44d6-9d69-faf5e631e74d",
   "metadata": {},
   "outputs": [],
   "source": []
  }
 ],
 "metadata": {
  "kernelspec": {
   "display_name": "R",
   "language": "R",
   "name": "ir"
  },
  "language_info": {
   "codemirror_mode": "r",
   "file_extension": ".r",
   "mimetype": "text/x-r-source",
   "name": "R",
   "pygments_lexer": "r",
   "version": "4.3.3"
  }
 },
 "nbformat": 4,
 "nbformat_minor": 5
}
