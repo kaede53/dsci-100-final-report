{
 "cells": [
  {
   "cell_type": "code",
   "execution_count": 2,
   "id": "e0253587-23a0-4c9a-8603-78cf72be182a",
   "metadata": {},
   "outputs": [
    {
     "name": "stdout",
     "output_type": "stream",
     "text": [
      "[1] \"gello\"\n"
     ]
    }
   ],
   "source": [
    "print(\"gello\")\n"
   ]
  },
  {
   "cell_type": "code",
   "execution_count": 1,
   "id": "389c66ab-fdba-44d6-9d69-faf5e631e74d",
   "metadata": {},
   "outputs": [
    {
     "name": "stdout",
     "output_type": "stream",
     "text": [
      "[1] \"hello by kaede\"\n"
     ]
    }
   ],
   "source": [
    "print(\"hello by kaede\")"
   ]
  },
  {
   "cell_type": "code",
   "execution_count": null,
   "id": "d9743d45-0424-459d-92bb-7efa50dcb6ac",
   "metadata": {},
   "outputs": [],
   "source": []
  }
 ],
 "metadata": {
  "kernelspec": {
   "display_name": "R",
   "language": "R",
   "name": "ir"
  },
  "language_info": {
   "codemirror_mode": "r",
   "file_extension": ".r",
   "mimetype": "text/x-r-source",
   "name": "R",
   "pygments_lexer": "r",
   "version": "4.3.3"
  }
 },
 "nbformat": 4,
 "nbformat_minor": 5
}
