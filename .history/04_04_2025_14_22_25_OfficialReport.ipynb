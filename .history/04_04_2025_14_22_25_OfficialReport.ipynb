{
 "cells": [
  {
   "cell_type": "markdown",
   "id": "38eb9b27-6809-4b8f-94b9-2fc575983bd9",
   "metadata": {},
   "source": [
    "# Exploring Player Engagement: Can Play Time and Player Age Predict Email Subscription for the PLAI Minecraft Server?\n"
   ]
  },
  {
   "cell_type": "markdown",
   "id": "8f7aa858-fa2b-4d3f-8c5b-c2d6c394c00c",
   "metadata": {},
   "source": [
    "<font size = 4> **1)\tIntroduction**\n",
    "\n",
    "**1.1\tBackground Summary**\n",
    "\n",
    ">The Pacific Laboratory for Artificial Intelligence (PLAI) led by Frank Wood, is a research group collecting data about how people play Minecraft, to develop a new responsive AI. They need better recruitment tactics to bring in more players who will provide large amounts of data, by having ample play time. In this proposal, we will be exploring a broad question of what \"kinds\" of players are most likely to contribute a large amount of data. This way a predictive analysis would be able to identify exactly what “kinds” of people/players to whom the PLAI should advertise. This can be done by finding any implicit groupings and relationships in the data via visual analyses from which conclusions can be drawn. To make this analysis possible it may be required to wrangle the data such that any missing values are removed, it is grouped by certain criteria, and useless data columns are removed.\n",
    "\n",
    "**1.2\tResearch Question**\n",
    "\n",
    ">This proposal aims to explore if a player’s age group and their playtime can make a predictive analysis on email subscriptions, consequently relating to the amount of data generated. Previous research has shown that customers/clients who are subscribed to a company’s email list, are more loyal to that company (Holland & Baker, 2001). As such we hypothesized that if players are subscribed to the email list, then they are more invested and loyal in the research of PLAI. As a result, they would have a proportionally higher play time than those who are not subscribed, resulting in more data for PLAI. We studied this by creating in-depth visualizations of a player’s age versus their play time coloured according to their subscription status. With this information we made a knn classification with playtime and player age as the predictor variables, to predict whether or not a player will be subscribed to the email list.\n",
    "\n",
    "**1.3\tData Summary**\n",
    "\n",
    ">The PLAI has provided two data sets, containing information on their current players: the Player dataset and the Sessions dataset. For this proposal, we will be focusing on the player data set since it provides the most relevant information to the research question. The player dataset is a multivariable dataset which describes the different types of players and their data. It is a data table with 7 columns and 196 rows (observations), which are a mix of character, logical, and double variable types. The 7 columns are defined as:\n",
    ">- `experience`: A factor variable which is a self-declared level of familiarity by the player with Minecraft, where: \n",
    "    - Veteran = Very Familiar\n",
    "    - Pro = Fairly Familiar \n",
    "    - Regular = Familiar \n",
    "    - Amateur = Slightly Familiar\n",
    "    - Beginner = Not Familiar\n",
    ">  - `subscribe`: A logical variable (True or False), that denotes if a player is signed up for the server email list.\n",
    ">  - `hashedEmail`: A character variable which is an encrypted version of a player’s email.\n",
    ">  - `hours_played`: A double variable which denotes the total amount of hours played on the server by a player.  \n",
    ">  - `name`: A character variable that is the actual name of the player participating in this study.  \n",
    ">  - `gender`: A character variable which is the self-identified gender of a player participating in this study.\n",
    "    - Male\n",
    "    - Female\n",
    "    - Non-binary\n",
    "    - Agender\n",
    "    - Two-Spirited\n",
    "    - Other\n",
    "    - Prefer not to say\n",
    "> - `Age`: A double variable which is the self-declared age of a player participating in this study.\n"
   ]
  },
  {
   "cell_type": "markdown",
   "id": "23ecc43d-5158-44aa-885d-851764d419b6",
   "metadata": {},
   "source": [
    "<font size = 4>**2) Methods & Results**"
   ]
  },
  {
   "cell_type": "markdown",
   "id": "05250fe3-bc8e-4edc-a9a6-c441b13e4fb0",
   "metadata": {},
   "source": [
    "**2.1 Loading in the Data**\n",
    "\n",
    ">Firstly, we loaded in all necessary library packages required for our proposal and the raw data from github using `read_csv`."
   ]
  },
  {
   "cell_type": "code",
   "execution_count": null,
   "id": "a543cdac-3654-4cf0-a62a-594e29c27a9e",
   "metadata": {},
   "outputs": [],
   "source": [
    "#Loading library packages\n",
    "library(repr)\n",
    "library(tidyverse)\n",
    "library(tidymodels)\n",
    "\n",
    "#Setting the seed\n",
    "set.seed(1)"
   ]
  },
  {
   "cell_type": "code",
   "execution_count": null,
   "id": "f4b1a6ed-bf47-4b0f-bbfb-1b38cd2dd082",
   "metadata": {},
   "outputs": [],
   "source": [
    "# Loading in the data set\n",
    "players_url <- \"https://raw.githubusercontent.com/rachelbmgr/toy_ds_project/refs/heads/main/players.csv\"\n",
    "players <- read_csv(players_url)\n",
    "head(players)\n",
    "tail(players)"
   ]
  },
  {
   "cell_type": "markdown",
   "id": "bb2a4ac1-8f2a-42f5-8bcd-b2b7efed53ed",
   "metadata": {},
   "source": [
    "**2.2 Cleaning and Wrangling the data**\n",
    "\n",
    ">Looking at the data table, we notice that the `subscribe` column is `<lgl>` (logical), which must be changed to `<fct>` (factor), as it should be considered a categorical variable. It will also be more helpful to change the FALSE and TRUE observations in this column to 'subscribed' and 'not subscribed' to make it easier to understand future visualizations.\n",
    "<br> <br>\n",
    "There are also 'NA' values in the Age column, which we will filter out.\n",
    "<br> <br>\n",
    "The original played time data frame is in hours which we will change to minutes, so we have less near 0 values on our visualization (some people may play for less than 1 hour but more than 0 hours)"
   ]
  },
  {
   "cell_type": "code",
   "execution_count": null,
   "id": "12bbf564-f166-4c6b-b93b-a32b6d16c872",
   "metadata": {},
   "outputs": [],
   "source": [
    "# Cleaning & Wrangling the data\n",
    "players_tidy <- players |>\n",
    "                filter(Age != 'NA') |>\n",
    "                select(Age, subscribe, played_hours, experience, subscribe)\n",
    "\n",
    "players_scale_time <- players_tidy |>\n",
    "                mutate(played_mins = played_hours * 60) |>\n",
    "                mutate(subscribe = as_factor(subscribe))  |>\n",
    "                mutate(subscribe = fct_recode(subscribe, \"Subscribed\" = \"TRUE\", \"Not subscribed\" = \"FALSE\")) |>\n",
    "                filter(played_mins < 451) |>\n",
    "                select(-played_hours)\n",
    "                \n",
    "head(players_scale_time)"
   ]
  },
  {
   "cell_type": "markdown",
   "id": "eb415d00-c73c-40fb-91ae-0d80e76304b2",
   "metadata": {},
   "source": [
    "**2.3 Summarizing the data**\n",
    "\n",
    ">Here we summarize the data by looking at the mean age, and mean played minutes, by using `group_by` the `subscribe` column."
   ]
  },
  {
   "cell_type": "code",
   "execution_count": null,
   "id": "d736c638-2b83-4adb-a715-b4e2f98ca965",
   "metadata": {},
   "outputs": [],
   "source": [
    "# Data summary\n",
    "players_summary <- players_scale_time |>\n",
    "                   group_by(subscribe) |>\n",
    "                    summarize(mean_age = mean(Age),\n",
    "                              mean_mins = mean(played_mins))\n",
    "players_summary"
   ]
  },
  {
   "cell_type": "markdown",
   "id": "08fdaee8-638b-405d-bca7-8812a5d2a6de",
   "metadata": {},
   "source": [
    ">This tells us that on average those who are not subscribed are typically older and spend more time on the server than those who are subscribed."
   ]
  },
  {
   "cell_type": "markdown",
   "id": "7675b528-67df-4a9b-ac4e-3f2d40f0267b",
   "metadata": {},
   "source": [
    "**2.3 Visualizing Initial Relationship**\n",
    "\n",
    ">Here we used ggplot to create a scatter plot with `played_mins` on the x axis, `Age`on the y axis, and whether they were subscribed or not (`subscribe`) through the point's color."
   ]
  },
  {
   "cell_type": "code",
   "execution_count": null,
   "id": "8410781b-3697-4f45-b939-0dfb8a627b47",
   "metadata": {},
   "outputs": [],
   "source": [
    "# Visulization of data set pre-knn\n",
    "options(repr.plot.width = 10, repr.plot.height = 6)\n",
    "intitial_players_plot <- players_scale_time |>\n",
    "                   ggplot(aes(x = played_mins, y = Age, color = subscribe)) +\n",
    "                   geom_point(alpha = 0.6) + \n",
    "                   xlab(\"Play time on server (minutes)\") + \n",
    "                   ylab(\"Age of player (years)\") + \n",
    "                   labs(color = \"Subcription Status\") +\n",
    "                   ggtitle(\"Initial visualization of Age of player vs Played Minutes\") + \n",
    "                   theme(text = element_text(size = 15))\n",
    "intitial_players_plot\n"
   ]
  },
  {
   "cell_type": "markdown",
   "id": "1e5ba936-a5c9-472a-8fa2-0ca8149661b9",
   "metadata": {},
   "source": [
    "**2.4 Tuning and determining the best K value for KNN Classification**\n",
    "\n",
    ">With our initial visualization we are now fairly confident that there may a realtionship between subscription status and a player's playtime and their age. As such, since we have two numerical variables predicting a factor variable the best prediction model to affirm our hypothesis will be a knn classification. Where player age and play time are being used to predict subscription status. Before we can make properly measure accuracy of the designed knn model we have to tune the model to determine the best K value."
   ]
  },
  {
   "cell_type": "code",
   "execution_count": null,
   "id": "d9f8b2ce-1c06-4f04-9b8e-690098d93f2e",
   "metadata": {},
   "outputs": [],
   "source": [
    "# Splitting Dataset\n",
    "players_split <- initial_split(players_scale_time, prop = 0.75, strata = subscribe) \n",
    "players_train <- training(players_split)\n",
    "players_test <- testing(players_split)"
   ]
  },
  {
   "cell_type": "code",
   "execution_count": null,
   "id": "8f8651fd-4ada-41f9-9108-1889d044b3e9",
   "metadata": {},
   "outputs": [],
   "source": [
    "# Determining best KNN value \n",
    "# Create tune model\n",
    "players_recipe <- recipe(subscribe ~ Age + played_mins, data = players_train) |>\n",
    "                  step_scale(all_predictors()) |>\n",
    "                  step_center(all_predictors())\n",
    "\n",
    "knn_spec <- nearest_neighbor(weight_func = \"rectangular\", neighbors = tune()) |>\n",
    "            set_engine(\"kknn\") |>\n",
    "            set_mode(\"classification\")\n",
    "\n",
    "# Perform 5 fold cross validation\n",
    "players_vfold <- vfold_cv(players_train, v = 5, strata = subscribe)\n",
    "\n",
    "#Sequence of K values being tested\n",
    "kvals <- seq(from = 1, to = 10, by = 1)\n",
    "\n",
    "# Creating workflow\n",
    "knn_results <- workflow() |>\n",
    "                 add_recipe(players_recipe) |>\n",
    "                 add_model(knn_spec) |>\n",
    "                 tune_grid(resamples = players_vfold, grid = tibble(neighbors = kvals)) |>\n",
    "                 collect_metrics()\n",
    "\n",
    "k_accuracies <- knn_results |>\n",
    "              filter(.metric == \"accuracy\") |>\n",
    "              select(neighbors, mean)\n",
    "\n",
    "k_accuracies"
   ]
  },
  {
   "cell_type": "code",
   "execution_count": null,
   "id": "08b04b0b-34e0-41df-926d-613ea3014ddf",
   "metadata": {},
   "outputs": [],
   "source": [
    "# Cross validation plot\n",
    "cross_val_plot <- k_accuracies |>  \n",
    "                  ggplot(aes(x = neighbors, y = mean)) +\n",
    "                  geom_point() +\n",
    "                  geom_line() +\n",
    "                  labs(x = 'Neighbors', y = 'Accuracy Estimate') +\n",
    "                  scale_x_continuous(breaks = c(1, 2, 3, 4, 5, 6, 7, 8, 9, 10))  +\n",
    "                  theme(text = element_text(size = 20))\n",
    "cross_val_plot"
   ]
  },
  {
   "cell_type": "markdown",
   "id": "6a692257-3e73-4ce1-99ff-f6bc14b8e17a",
   "metadata": {},
   "source": [
    "**2.5 Final KNN Classification Model**\n",
    "\n",
    ">A K value of 9 seems to be the best choice, as it has the greatest accuracy and no steep drops before or after it. As such we will use it for the actual Knn Classifer, so as to maximize its accuracy. Once the classifier model has made its predictions on the data set, we can determine the quality of our designed model by collecting various metrics such as accuracy, precision, recall, and creating a confusion matrix."
   ]
  },
  {
   "cell_type": "code",
   "execution_count": null,
   "id": "f242b533-1b22-4b83-ae32-a45e7fd16087",
   "metadata": {},
   "outputs": [],
   "source": [
    "# Evaluation on the test set\n",
    "\n",
    "fin_knn_spec <- nearest_neighbor(weight_func = \"rectangular\", neighbors = 9) |>\n",
    "  set_engine(\"kknn\") |>\n",
    "  set_mode(\"classification\")\n",
    "\n",
    "fin_knn_fit <- workflow() |>\n",
    "  add_recipe(players_recipe) |>\n",
    "  add_model(fin_knn_spec) |>\n",
    "  fit(data = players_train)\n",
    "\n",
    "# Predictions & Accuracy of the model\n",
    "players_test_prediction <- predict(fin_knn_fit, players_test) |>\n",
    "                        bind_cols(players_test)\n",
    "\n",
    "players_test_prediction |>\n",
    "    metrics(truth = subscribe, estimate = .pred_class) |>\n",
    "    filter(.metric == \"accuracy\")\n",
    "\n",
    "players_test_prediction |>\n",
    "    precision(truth = subscribe, estimate = .pred_class, event_level =\"first\")\n",
    "\n",
    "players_test_prediction |>\n",
    "    recall(truth = subscribe, estimate = .pred_class, event_level =\"first\")\n",
    "\n",
    "# Confusion matrix\n",
    "confusion_mat <- players_test_prediction |>\n",
    "                 conf_mat(truth = subscribe, estimate = .pred_class)\n",
    "confusion_mat"
   ]
  },
  {
   "cell_type": "code",
   "execution_count": null,
   "id": "a44ea923-953c-4451-80ae-720de719c68d",
   "metadata": {},
   "outputs": [],
   "source": [
    "#I don't think we need this because it contains the training data too...\n",
    "\n",
    "# players_predictions <- predict(fin_knn_fit, players_scale_time) |>\n",
    "#                        bind_cols(players_scale_time)\n",
    "\n",
    "# metrics <- players_predictions |>\n",
    "#            metrics(truth = subscribe, estimate = .pred_class) |>\n",
    "#            filter(.metric == 'accuracy')\n",
    "# metrics      \n",
    "\n",
    "# confusion_mat_2 <- players_predictions |>\n",
    "#                    conf_mat(truth = subscribe, estimate = .pred_class)\n",
    "# confusion_mat_2"
   ]
  },
  {
   "cell_type": "markdown",
   "id": "0d618aae-e74e-4de1-bbaa-83e1e2c6366c",
   "metadata": {},
   "source": [
    "<font size = 4>**3) Discussion**\n",
    "\n",
    "**3.1 Result Summary**\n",
    "\n",
    ">In this proposal, we aimed to explore the question: \"Can play time and player age predict email subscription for the PLAI Minecraft server?\" To answer this question, we created a knn classifier that used played time and player age as predictor variables to predict a player's email subscription status. Our classifier had an accuracy of around 54%, precision of 28%, and recall of 38% when predicting on the testing dataset. These low metrics indicate that our classifer is not as effective when applied to a new set of data.\n",
    "\n",
    ">Furthermore, the low performance of our classifier also suggests that there may not be a strong relationship between played time, player age, and email subscription, causing m. This contradicts with our expectations as we hypothesized that players with a longer play time are more invested and loyal to the game and would be more likely to subscribe to the email list. \n",
    "\n",
    "**3.2 Impact For PLAI**\n",
    "\n",
    ">Hello"
   ]
  },
  {
   "cell_type": "markdown",
   "id": "3dcd80e9-7a5c-4a01-aef0-35c27eda20f9",
   "metadata": {},
   "source": [
    "<font size = 4>**4) References**\n",
    "\n",
    "(1) Holland, J.; Baker, S. M. Customer participation in creating site brand loyalty. Journal of \tInteractive Marketing 2001, 15 (4), 34–45. https://doi.org/10.1002/dir.1021. \n",
    "\n",
    "\n"
   ]
  }
 ],
 "metadata": {
  "kernelspec": {
   "display_name": "R",
   "language": "R",
   "name": "ir"
  },
  "language_info": {
   "codemirror_mode": "r",
   "file_extension": ".r",
   "mimetype": "text/x-r-source",
   "name": "R",
   "pygments_lexer": "r",
   "version": "4.3.3"
  }
 },
 "nbformat": 4,
 "nbformat_minor": 5
}
